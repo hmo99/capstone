{
 "cells": [
  {
   "cell_type": "markdown",
   "metadata": {},
   "source": [
    "# Project Idea:\n",
    "- A good loan (from the prospective of an investor) pays \n",
    "the interests and fractional principals on time and terminate at loan maturity.\n",
    "- An investor often lose money when a loan goes into default, settlement,\n",
    "or 'written off' (called **charged off** in this data set).\n",
    "- Build a supervised model to make **multi-label** prediction on 3 dimensions\n",
    "\"charged off + default\", \"settlement involved\", \"hardship\".\n",
    "- This can be used either by **Lending Club** itself or a third-party investing firm\n",
    "for loan-grade design or accurated portfolio selection.\n",
    "- Depending on the scope of your project, you may \n",
    "    - tackle a single label prediction.\n",
    "    - restrict to the pooled models.\n",
    "    - focus on the time seris models\n",
    "- This is a **multi-label** binary imbalance classification task.\n",
    "- If you train a **pooled** model, you have to deal with $2M+$ samples, often too\n",
    "large for a typical ML algorithm to handle.\n",
    "\n",
    "- Try several imbalance classification techniques and evaluate their performance.\n",
    "\n",
    "- Based on your business, discuss the negative impacts of type I (false\n",
    "positive), type II (false negative) errors in your prediction.\n",
    "\n",
    "- If you decide to train a time series model, make sure that you have some\n",
    "basic background on performing hyper-parameter tuning in the time series context.\n",
    "\n",
    "- **MUST**: A defaulted loan with a loan amount $\\$1000$ has a totally different \n",
    "impact to the final profit than a defaulted $\\$50000$ loan. \n",
    "   - Discuss whether the **classroom-taught** machine learning techniques \n",
    "    addresses these issues. How would you modify the classifier to take into account \n",
    "         - your business objectives.\n",
    "         - the profit and loss focus.\n",
    "\n",
    "- Can you use **NLP** technique to extract insights on the loan descriptions\n",
    "which helps your predictive task?\n",
    "</a><br>\n",
    "# Structure: \n",
    "- <a href=\"#preprocessing\">Preprocessing</a><br>\n",
    "    - <a href=\"#before\">Application Information before loan issued</a><br>\n",
    "    - <a href=\"#label\">Lables</a><br>\n",
    "    - <a href=\"#missing\">Missing Values</a><br>\n",
    "- <a href=\"#function\">Function</a><br>\n",
    "- <a href=\"#ml\">Machine Learning</a><br>\n",
    "    - Unsupervised Machine Learning  \n",
    "        - <a href=\"#kmeans\">K Means</a><br> \n",
    "\n",
    "    - Supervised Machine Learning      \n",
    "        - <a href=\"#decision\">Decision Tree</a><br>\n",
    "        - <a href=\"#rf\">Random Forest</a><br>\n",
    "        - <a href=\"#svm\">SVM</a><br>\n",
    "        - <a href=\"#xgboost\">XGBoost</a><br>\n",
    "        - <a href=\"#logistic\">Logistic Regression</a><br>\n",
    "        - <a href=\"#naive\">Naive Bayes Classifier</a><br>\n",
    "        - <a href=\"#neighbor\">Nearest Neighbor</a><br>\n",
    "- <a href=\"#imbalance\">Handling Imbalanced Data</a><br>\n",
    "    - <a href=\"#smote\">SMOTE</a><br>"
   ]
  },
  {
   "cell_type": "code",
   "execution_count": 1,
   "metadata": {
    "scrolled": true
   },
   "outputs": [],
   "source": [
    "import numpy as np\n",
    "import pandas as pd\n",
    "\n",
    "pd.options.display.max_columns = None\n",
    "pd.options.display.max_rows = 100\n",
    "\n",
    "import seaborn as sns\n",
    "sns.set(style=\"whitegrid\")\n",
    "import plotly.graph_objects as go\n",
    "import matplotlib.pyplot as plt\n",
    "import matplotlib as matplotlib\n",
    "%matplotlib inline"
   ]
  },
  {
   "cell_type": "code",
   "execution_count": null,
   "metadata": {
    "scrolled": true
   },
   "outputs": [],
   "source": [
    "df_raw_accepted = pd.read_csv('accepted_2007_to_2018Q4.csv')"
   ]
  },
  {
   "cell_type": "code",
   "execution_count": null,
   "metadata": {},
   "outputs": [],
   "source": [
    "df_raw_accepted.sample(frac=0.001).to_csv('sample_accepted.csv')"
   ]
  },
  {
   "cell_type": "code",
   "execution_count": 2,
   "metadata": {
    "scrolled": true
   },
   "outputs": [],
   "source": [
    "sample_accepted = pd.read_csv('sample_accepted.csv')"
   ]
  },
  {
   "cell_type": "code",
   "execution_count": null,
   "metadata": {},
   "outputs": [],
   "source": [
    "sample_accepted.shape"
   ]
  },
  {
   "cell_type": "code",
   "execution_count": null,
   "metadata": {},
   "outputs": [],
   "source": [
    "sample_accepted = sample_accepted.sample(2000)"
   ]
  },
  {
   "cell_type": "markdown",
   "metadata": {},
   "source": [
    " <p><a name=\"preprocessing\"></a></p>\n",
    " \n",
    " ## Preprocessing"
   ]
  },
  {
   "cell_type": "code",
   "execution_count": 23,
   "metadata": {},
   "outputs": [],
   "source": [
    "df_processed = sample_accepted.copy()"
   ]
  },
  {
   "cell_type": "markdown",
   "metadata": {},
   "source": [
    " <p><a name=\"label\"></a></p>\n",
    " \n",
    " ### Lables"
   ]
  },
  {
   "cell_type": "code",
   "execution_count": 24,
   "metadata": {},
   "outputs": [],
   "source": [
    "# Multi Labels - \"charged off + default\", \"settlement involved\", \"hardship\" \n",
    "\n",
    "chargedoff_default_list = ['Charged Off','Default', 'Does not meet the credit policy. Status:Charged Off']\n",
    "\n",
    "df_processed['label_hardship'] = df_processed['hardship_status'].apply(lambda x: 0 if x  is np.nan else 1)\n",
    "df_processed['label_chargedoff_default'] = df_processed['loan_status'].apply(lambda x: 1 if x in chargedoff_default_list else 0)\n",
    "df_processed['label_settlement'] = df_processed['settlement_status'].apply(lambda x: 0 if x  is np.nan else 1)\n",
    "\n",
    "label_list = ['label_hardship','label_chargedoff_default','label_settlement']\n",
    "df_label = df_processed[label_list]"
   ]
  },
  {
   "cell_type": "code",
   "execution_count": 10,
   "metadata": {},
   "outputs": [],
   "source": [
    "# Hardship Loans \n",
    "\n",
    "hardship_list = ['hardship_flag',\n",
    "     'hardship_type',\n",
    "     'hardship_reason',\n",
    "     'hardship_status',\n",
    "     'deferral_term',\n",
    "     'hardship_amount',\n",
    "     'hardship_start_date',\n",
    "     'hardship_end_date',\n",
    "     'payment_plan_start_date',\n",
    "     'hardship_length',\n",
    "     'hardship_dpd',\n",
    "     'hardship_loan_status',\n",
    "     'orig_projected_additional_accrued_interest',\n",
    "     'hardship_payoff_balance_amount',\n",
    "     'hardship_last_payment_amount',\n",
    "     'label_hardship'\n",
    "                ]"
   ]
  },
  {
   "cell_type": "code",
   "execution_count": null,
   "metadata": {},
   "outputs": [],
   "source": [
    "df_processed.loan_status.unique()"
   ]
  },
  {
   "cell_type": "code",
   "execution_count": null,
   "metadata": {},
   "outputs": [],
   "source": [
    "df_processed[hardship_list][df_processed['hardship_type'].notnull()]"
   ]
  },
  {
   "cell_type": "code",
   "execution_count": null,
   "metadata": {},
   "outputs": [],
   "source": [
    "df_processed[hardship_list][df_processed['hardship_type'].notnull()].describe().T"
   ]
  },
  {
   "cell_type": "code",
   "execution_count": null,
   "metadata": {},
   "outputs": [],
   "source": [
    "# Settlement Loans \n",
    "\n",
    "settlement_list = ['debt_settlement_flag',\n",
    "     'debt_settlement_flag_date',\n",
    "     'settlement_status',\n",
    "     'settlement_date',\n",
    "     'settlement_amount',\n",
    "     'settlement_percentage',\n",
    "     'settlement_term']"
   ]
  },
  {
   "cell_type": "code",
   "execution_count": null,
   "metadata": {},
   "outputs": [],
   "source": [
    "df_processed[settlement_list][df_processed['settlement_status'].notnull()]"
   ]
  },
  {
   "cell_type": "code",
   "execution_count": null,
   "metadata": {},
   "outputs": [],
   "source": [
    "df_processed[settlement_list][df_processed['settlement_status'].notnull()].describe().T"
   ]
  },
  {
   "cell_type": "code",
   "execution_count": null,
   "metadata": {},
   "outputs": [],
   "source": [
    "df_processed.loc[df_processed['label_chargedoff_default'] == 1]"
   ]
  },
  {
   "cell_type": "code",
   "execution_count": null,
   "metadata": {},
   "outputs": [],
   "source": [
    "df_label = df_processed[label_list].copy()\n",
    "df_label['total'] = df_label['label_hardship'] + df_label['label_chargedoff_default'] + df_label['label_settlement']\n",
    "# df_label.loc[df_label['label_settlement'] == 1].sample(10)\n",
    "df_label.groupby(['total', 'label_hardship', 'label_settlement' , 'label_chargedoff_default']).size()"
   ]
  },
  {
   "cell_type": "code",
   "execution_count": null,
   "metadata": {},
   "outputs": [],
   "source": [
    "df_label.loc[df_label['label_settlement'] == 1].groupby('loan_status').size()"
   ]
  },
  {
   "cell_type": "code",
   "execution_count": null,
   "metadata": {},
   "outputs": [],
   "source": [
    "df_label.loc[df_label['label_hardship'] == 1].groupby('loan_status').size()"
   ]
  },
  {
   "cell_type": "code",
   "execution_count": null,
   "metadata": {},
   "outputs": [],
   "source": [
    "import plotly.graph_objects as go\n",
    "\n",
    "fig =go.Figure(go.Sunburst(\n",
    "    labels=[\"Charged Off\", \"Current\", \"Late\", \"Hardship\", \"Hardship\", \"Hardship\",\"Settlement\",\"Settlement\"],\n",
    "    parents=[\"Total\", \"Total\", \"Total\", \"Charged Off\", \"Current\", \"Late\", \"Charged Off\", \"Late\" ],\n",
    "    values=[980, 235, 743, 42, 5, 1, 3, 32, 1],\n",
    "))\n",
    "fig.update_layout(margin = dict(t=0, l=0, r=0, b=0))\n",
    "\n",
    "fig.show()\n",
    "\n",
    "# https://plot.ly/python/sunburst-charts/"
   ]
  },
  {
   "cell_type": "markdown",
   "metadata": {},
   "source": [
    " <p><a name=\"before\"></a></p>\n",
    " \n",
    " ### Application Information before loan is issued "
   ]
  },
  {
   "cell_type": "code",
   "execution_count": 14,
   "metadata": {},
   "outputs": [
    {
     "data": {
      "text/html": [
       "<div>\n",
       "<style scoped>\n",
       "    .dataframe tbody tr th:only-of-type {\n",
       "        vertical-align: middle;\n",
       "    }\n",
       "\n",
       "    .dataframe tbody tr th {\n",
       "        vertical-align: top;\n",
       "    }\n",
       "\n",
       "    .dataframe thead th {\n",
       "        text-align: right;\n",
       "    }\n",
       "</style>\n",
       "<table border=\"1\" class=\"dataframe\">\n",
       "  <thead>\n",
       "    <tr style=\"text-align: right;\">\n",
       "      <th></th>\n",
       "      <th>index</th>\n",
       "      <th>0</th>\n",
       "    </tr>\n",
       "  </thead>\n",
       "  <tbody>\n",
       "    <tr>\n",
       "      <th>0</th>\n",
       "      <td>Unnamed: 0</td>\n",
       "      <td>1466659</td>\n",
       "    </tr>\n",
       "    <tr>\n",
       "      <th>1</th>\n",
       "      <td>id</td>\n",
       "      <td>141630124</td>\n",
       "    </tr>\n",
       "    <tr>\n",
       "      <th>2</th>\n",
       "      <td>member_id</td>\n",
       "      <td>NaN</td>\n",
       "    </tr>\n",
       "    <tr>\n",
       "      <th>3</th>\n",
       "      <td>loan_amnt</td>\n",
       "      <td>27000</td>\n",
       "    </tr>\n",
       "    <tr>\n",
       "      <th>4</th>\n",
       "      <td>funded_amnt</td>\n",
       "      <td>27000</td>\n",
       "    </tr>\n",
       "    <tr>\n",
       "      <th>...</th>\n",
       "      <td>...</td>\n",
       "      <td>...</td>\n",
       "    </tr>\n",
       "    <tr>\n",
       "      <th>150</th>\n",
       "      <td>settlement_percentage</td>\n",
       "      <td>NaN</td>\n",
       "    </tr>\n",
       "    <tr>\n",
       "      <th>151</th>\n",
       "      <td>settlement_term</td>\n",
       "      <td>NaN</td>\n",
       "    </tr>\n",
       "    <tr>\n",
       "      <th>152</th>\n",
       "      <td>label_hardship</td>\n",
       "      <td>0</td>\n",
       "    </tr>\n",
       "    <tr>\n",
       "      <th>153</th>\n",
       "      <td>label_chargedoff_default</td>\n",
       "      <td>0</td>\n",
       "    </tr>\n",
       "    <tr>\n",
       "      <th>154</th>\n",
       "      <td>label_settlement</td>\n",
       "      <td>0</td>\n",
       "    </tr>\n",
       "  </tbody>\n",
       "</table>\n",
       "<p>155 rows × 2 columns</p>\n",
       "</div>"
      ],
      "text/plain": [
       "                        index          0\n",
       "0                  Unnamed: 0    1466659\n",
       "1                          id  141630124\n",
       "2                   member_id        NaN\n",
       "3                   loan_amnt      27000\n",
       "4                 funded_amnt      27000\n",
       "..                        ...        ...\n",
       "150     settlement_percentage        NaN\n",
       "151           settlement_term        NaN\n",
       "152            label_hardship          0\n",
       "153  label_chargedoff_default          0\n",
       "154          label_settlement          0\n",
       "\n",
       "[155 rows x 2 columns]"
      ]
     },
     "execution_count": 14,
     "metadata": {},
     "output_type": "execute_result"
    }
   ],
   "source": [
    "columns = df_processed.head(1).T.reset_index()\n",
    "columns"
   ]
  },
  {
   "cell_type": "code",
   "execution_count": 25,
   "metadata": {},
   "outputs": [],
   "source": [
    "columns_list = df_processed.columns.tolist()\n",
    "before_list = columns_list[0:38] + columns_list[57:129]\n",
    "df_processed = df_processed[before_list]"
   ]
  },
  {
   "cell_type": "code",
   "execution_count": 26,
   "metadata": {},
   "outputs": [
    {
     "data": {
      "text/html": [
       "<div>\n",
       "<style scoped>\n",
       "    .dataframe tbody tr th:only-of-type {\n",
       "        vertical-align: middle;\n",
       "    }\n",
       "\n",
       "    .dataframe tbody tr th {\n",
       "        vertical-align: top;\n",
       "    }\n",
       "\n",
       "    .dataframe thead th {\n",
       "        text-align: right;\n",
       "    }\n",
       "</style>\n",
       "<table border=\"1\" class=\"dataframe\">\n",
       "  <thead>\n",
       "    <tr style=\"text-align: right;\">\n",
       "      <th></th>\n",
       "      <th>0</th>\n",
       "      <th>1</th>\n",
       "      <th>2</th>\n",
       "      <th>3</th>\n",
       "      <th>4</th>\n",
       "    </tr>\n",
       "  </thead>\n",
       "  <tbody>\n",
       "    <tr>\n",
       "      <th>Unnamed: 0</th>\n",
       "      <td>1466659</td>\n",
       "      <td>108000</td>\n",
       "      <td>2115589</td>\n",
       "      <td>1131148</td>\n",
       "      <td>1394654</td>\n",
       "    </tr>\n",
       "    <tr>\n",
       "      <th>id</th>\n",
       "      <td>141630124</td>\n",
       "      <td>61672450</td>\n",
       "      <td>122279931</td>\n",
       "      <td>35853495</td>\n",
       "      <td>143360104</td>\n",
       "    </tr>\n",
       "    <tr>\n",
       "      <th>member_id</th>\n",
       "      <td>NaN</td>\n",
       "      <td>NaN</td>\n",
       "      <td>NaN</td>\n",
       "      <td>NaN</td>\n",
       "      <td>NaN</td>\n",
       "    </tr>\n",
       "    <tr>\n",
       "      <th>loan_amnt</th>\n",
       "      <td>27000</td>\n",
       "      <td>35000</td>\n",
       "      <td>40000</td>\n",
       "      <td>12600</td>\n",
       "      <td>18000</td>\n",
       "    </tr>\n",
       "    <tr>\n",
       "      <th>funded_amnt</th>\n",
       "      <td>27000</td>\n",
       "      <td>35000</td>\n",
       "      <td>40000</td>\n",
       "      <td>12600</td>\n",
       "      <td>18000</td>\n",
       "    </tr>\n",
       "    <tr>\n",
       "      <th>...</th>\n",
       "      <td>...</td>\n",
       "      <td>...</td>\n",
       "      <td>...</td>\n",
       "      <td>...</td>\n",
       "      <td>...</td>\n",
       "    </tr>\n",
       "    <tr>\n",
       "      <th>sec_app_open_act_il</th>\n",
       "      <td>NaN</td>\n",
       "      <td>NaN</td>\n",
       "      <td>1</td>\n",
       "      <td>NaN</td>\n",
       "      <td>NaN</td>\n",
       "    </tr>\n",
       "    <tr>\n",
       "      <th>sec_app_num_rev_accts</th>\n",
       "      <td>NaN</td>\n",
       "      <td>NaN</td>\n",
       "      <td>11</td>\n",
       "      <td>NaN</td>\n",
       "      <td>NaN</td>\n",
       "    </tr>\n",
       "    <tr>\n",
       "      <th>sec_app_chargeoff_within_12_mths</th>\n",
       "      <td>NaN</td>\n",
       "      <td>NaN</td>\n",
       "      <td>0</td>\n",
       "      <td>NaN</td>\n",
       "      <td>NaN</td>\n",
       "    </tr>\n",
       "    <tr>\n",
       "      <th>sec_app_collections_12_mths_ex_med</th>\n",
       "      <td>NaN</td>\n",
       "      <td>NaN</td>\n",
       "      <td>0</td>\n",
       "      <td>NaN</td>\n",
       "      <td>NaN</td>\n",
       "    </tr>\n",
       "    <tr>\n",
       "      <th>sec_app_mths_since_last_major_derog</th>\n",
       "      <td>NaN</td>\n",
       "      <td>NaN</td>\n",
       "      <td>NaN</td>\n",
       "      <td>NaN</td>\n",
       "      <td>NaN</td>\n",
       "    </tr>\n",
       "  </tbody>\n",
       "</table>\n",
       "<p>110 rows × 5 columns</p>\n",
       "</div>"
      ],
      "text/plain": [
       "                                             0         1          2         3  \\\n",
       "Unnamed: 0                             1466659    108000    2115589   1131148   \n",
       "id                                   141630124  61672450  122279931  35853495   \n",
       "member_id                                  NaN       NaN        NaN       NaN   \n",
       "loan_amnt                                27000     35000      40000     12600   \n",
       "funded_amnt                              27000     35000      40000     12600   \n",
       "...                                        ...       ...        ...       ...   \n",
       "sec_app_open_act_il                        NaN       NaN          1       NaN   \n",
       "sec_app_num_rev_accts                      NaN       NaN         11       NaN   \n",
       "sec_app_chargeoff_within_12_mths           NaN       NaN          0       NaN   \n",
       "sec_app_collections_12_mths_ex_med         NaN       NaN          0       NaN   \n",
       "sec_app_mths_since_last_major_derog        NaN       NaN        NaN       NaN   \n",
       "\n",
       "                                             4  \n",
       "Unnamed: 0                             1394654  \n",
       "id                                   143360104  \n",
       "member_id                                  NaN  \n",
       "loan_amnt                                18000  \n",
       "funded_amnt                              18000  \n",
       "...                                        ...  \n",
       "sec_app_open_act_il                        NaN  \n",
       "sec_app_num_rev_accts                      NaN  \n",
       "sec_app_chargeoff_within_12_mths           NaN  \n",
       "sec_app_collections_12_mths_ex_med         NaN  \n",
       "sec_app_mths_since_last_major_derog        NaN  \n",
       "\n",
       "[110 rows x 5 columns]"
      ]
     },
     "execution_count": 26,
     "metadata": {},
     "output_type": "execute_result"
    }
   ],
   "source": [
    "df_processed.head(5).T"
   ]
  },
  {
   "cell_type": "code",
   "execution_count": null,
   "metadata": {},
   "outputs": [],
   "source": [
    "# Drop irrelavant columns \n",
    "drop_list = ['Unnamed: 0','id','member_id','funded_amnt','url','desc','title']\n",
    "\n",
    "drop_for_grade_list = ['funded_amnt_inv','int_rate','installment','issue_d','loan_status','pymnt_plan','out_prncp','out_prncp_inv']\n",
    "\n",
    "\n",
    "accepted.drop(['Unnamed: 0', 'id','member_id','desc','title','url','pymnt_plan','debt_settlement_flag_date','settlement_date',\n",
    "               'payment_plan_start_date', 'hardship_type','hardship_reason','hardship_status','deferral_term',\n",
    "               'hardship_amount','hardship_start_date','hardship_end_date','hardship_length','hardship_dpd',\n",
    "               'hardship_loan_status','orig_projected_additional_accrued_interest','hardship_payoff_balance_amount',\n",
    "               'hardship_last_payment_amount','settlement_status','settlement_amount','settlement_percentage',\n",
    "               'settlement_term','mo_sin_old_il_acct','mo_sin_old_rev_tl_op','mo_sin_rcnt_rev_tl_op',\n",
    "               'mo_sin_rcnt_tl'],axis=1,inplace=True)\n",
    "\n",
    "\n",
    "df_processed = df_processed.drop(drop_list, axis=1)\n",
    "df_processed = df_processed.drop(drop_for_grade_list, axis=1)\n",
    "\n",
    "# Convert categorical to numerical \n",
    "df_processed['term'] = df_processed['term'].apply(lambda x: int(x.split()[0]))\n",
    "df_processed['emp_length'] = df_processed['emp_length'].str.extract('(\\d+)') \n",
    "#10 means more than 10 years \n",
    "\n",
    "# Convert to Datetime\n",
    "df_processed['earliest_cr_line'] = pd.to_datetime(df_processed['earliest_cr_line'])\n",
    "\n",
    "# Missing Values \n",
    "\n",
    "df_processed.mths_since_last_record = df_processed.mths_since_last_record.fillna(0)\n",
    "df_processed.mths_since_last_delinq = df_processed.mths_since_last_delinq.fillna(0)\n",
    "\n",
    "df_processed.emp_title = df_processed.emp_title.fillna('None')\n",
    "df_processed.emp_length = df_processed.emp_length.fillna(0)\n",
    "\n",
    "df_processed.revol_util = df_processed.revol_util.fillna(0)\n",
    "\n",
    "df_processed.dti = df_processed.dti.fillna(df_processed.revol_bal / df_processed.annual_inc)"
   ]
  },
  {
   "cell_type": "code",
   "execution_count": null,
   "metadata": {},
   "outputs": [],
   "source": [
    "# Secondary Applicant\n",
    "\n",
    "joint_list = ['sec_app_fico_range_low','sec_app_fico_range_high',\n",
    "               'sec_app_earliest_cr_line','sec_app_inq_last_6mths',\n",
    "               'sec_app_mort_acc','sec_app_open_acc','sec_app_revol_util',\n",
    "               'sec_app_open_act_il','sec_app_num_rev_accts','sec_app_chargeoff_within_12_mths',\n",
    "               'sec_app_collections_12_mths_ex_med','sec_app_mths_since_last_major_derog',\n",
    "               'verification_status_joint','revol_bal_joint', \n",
    "               'dti_joint', 'application_type','annual_inc_joint']"
   ]
  },
  {
   "cell_type": "code",
   "execution_count": null,
   "metadata": {},
   "outputs": [],
   "source": [
    "df_processed.loc[df_processed['application_type'] == 'Joint App',joint_list]"
   ]
  },
  {
   "cell_type": "markdown",
   "metadata": {},
   "source": [
    " <p><a name=\"datetime\"></a></p>\n",
    "    \n",
    "### Convert to Datetime"
   ]
  },
  {
   "cell_type": "code",
   "execution_count": null,
   "metadata": {},
   "outputs": [],
   "source": [
    "# convert to Datetime\n",
    "\n",
    "accepted['issue_d'] = pd.to_datetime(accepted['issue_d'])\n",
    "accepted['last_pymnt_d'] = pd.to_datetime(accepted['last_pymnt_d'])\n",
    "accepted['last_credit_pull_d'] = pd.to_datetime(accepted['last_credit_pull_d'])\n",
    "accepted['next_pymnt_d'] = pd.to_datetime(accepted['next_pymnt_d'])\n",
    "accepted['debt_settlement_flag_date'] = pd.to_datetime(accepted['debt_settlement_flag_date'])\n",
    "accepted['settlement_date'] = pd.to_datetime(accepted['settlement_date'])\n",
    "accepted['hardship_start_date'] = pd.to_datetime(accepted['hardship_start_date'])\n",
    "accepted['hardship_end_date'] = pd.to_datetime(accepted['hardship_end_date'])\n",
    "accepted['payment_plan_start_date'] = pd.to_datetime(accepted['payment_plan_start_date'])\n",
    "accepted['debt_settlement_flag_date'] = pd.to_datetime(accepted['debt_settlement_flag_date'])\n",
    "accepted['settlement_date'] = pd.to_datetime(accepted['settlement_date'])"
   ]
  },
  {
   "cell_type": "markdown",
   "metadata": {},
   "source": [
    " <p><a name=\"missing\"></a></p>\n",
    "    \n",
    "### Missing Values "
   ]
  },
  {
   "cell_type": "code",
   "execution_count": null,
   "metadata": {},
   "outputs": [],
   "source": [
    "total = df_processed.isnull().sum().sort_values(ascending=False)\n",
    "percent = (df_processed.isnull().sum()/df_processed.isnull().count()).sort_values(ascending=False)\n",
    "missing_data = pd.concat([total, percent], axis=1, keys=['Total', 'Percent'])\n",
    "missing_data.head(100)"
   ]
  },
  {
   "cell_type": "code",
   "execution_count": null,
   "metadata": {},
   "outputs": [],
   "source": [
    "# Drop irrelavant columns \n",
    "drop_list = ['Unnamed: 0','id','member_id','funded_amnt','url','desc','title']\n",
    "\n",
    "drop_for_grade_list = ['funded_amnt_inv','int_rate','installment','issue_d','loan_status','pymnt_plan','out_prncp','out_prncp_inv']\n",
    "\n",
    "df_processed = df_processed.drop(drop_list, axis=1)\n",
    "df_processed = df_processed.drop(drop_for_grade_list, axis=1)\n",
    "\n",
    "# Convert categorical to numerical \n",
    "df_processed['term'] = df_processed['term'].apply(lambda x: int(x.split()[0]))\n",
    "df_processed['emp_length'] = df_processed['emp_length'].str.extract('(\\d+)') \n",
    "#10 means more than 10 years \n",
    "\n",
    "# Convert to Datetime\n",
    "df_processed['earliest_cr_line'] = pd.to_datetime(df_processed['earliest_cr_line'])\n",
    "\n",
    "# Missing Values \n",
    "\n",
    "df_processed.mths_since_last_record = df_processed.mths_since_last_record.fillna(0)\n",
    "df_processed.mths_since_last_delinq = df_processed.mths_since_last_delinq.fillna(0)\n",
    "\n",
    "df_processed.emp_title = df_processed.emp_title.fillna('None')\n",
    "df_processed.emp_length = df_processed.emp_length.fillna(0)\n",
    "\n",
    "df_processed.revol_util = df_processed.revol_util.fillna(0)\n",
    "\n",
    "df_processed.dti = df_processed.dti.fillna(df_processed.revol_bal / df_processed.annual_inc)"
   ]
  }
 ],
 "metadata": {
  "kernelspec": {
   "display_name": "Python 3",
   "language": "python",
   "name": "python3"
  },
  "language_info": {
   "codemirror_mode": {
    "name": "ipython",
    "version": 3
   },
   "file_extension": ".py",
   "mimetype": "text/x-python",
   "name": "python",
   "nbconvert_exporter": "python",
   "pygments_lexer": "ipython3",
   "version": "3.7.3"
  }
 },
 "nbformat": 4,
 "nbformat_minor": 2
}
